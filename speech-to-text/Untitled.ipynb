{
 "cells": [
  {
   "cell_type": "code",
   "execution_count": 1,
   "metadata": {},
   "outputs": [
    {
     "name": "stdout",
     "output_type": "stream",
     "text": [
      "No devices were found\n"
     ]
    }
   ],
   "source": [
    "!nvidia-smi"
   ]
  },
  {
   "cell_type": "code",
   "execution_count": 3,
   "metadata": {},
   "outputs": [
    {
     "name": "stdout",
     "output_type": "stream",
     "text": [
      "finetune.py  init_env.sh  README.md  Untitled.ipynb\n"
     ]
    }
   ],
   "source": [
    "!ls"
   ]
  },
  {
   "cell_type": "code",
   "execution_count": 2,
   "metadata": {},
   "outputs": [
    {
     "name": "stdout",
     "output_type": "stream",
     "text": [
      "total 1913696\n",
      "-rw-r--r-- 1 akeraben akeraben 1722860000 Jun 17 07:19 cv-corpus-7.0-2021-07-21-lg.tar.gz\n",
      "-rw-r--r-- 1 akeraben akeraben  236764554 Jun 17 04:32 test_audio.zip\n"
     ]
    }
   ],
   "source": [
    "luganda_data_dir = \"/home/mila/a/akeraben/scratch/akera/sunbird/sunbird-speech\"\n",
    "luganda_cv_corpus = f\"{luganda_data_dir}/cv-corpus-7.0-2021-07-21-lg.tar.gz\"\n",
    "luganda_test_audio_file = f\"{luganda_data_dir}/test_audio.zip\"\n",
    "luganda_test_file = f\"{luganda_data_dir}/Test.csv\"\n",
    "\n",
    "!ls -l $luganda_data_dir"
   ]
  },
  {
   "cell_type": "code",
   "execution_count": 9,
   "metadata": {},
   "outputs": [
    {
     "data": {
      "text/plain": [
       "'/home/mila/a/akeraben/sunbird/sunbird-speech'"
      ]
     },
     "execution_count": 9,
     "metadata": {},
     "output_type": "execute_result"
    }
   ],
   "source": [
    "pwd"
   ]
  },
  {
   "cell_type": "code",
   "execution_count": 10,
   "metadata": {},
   "outputs": [],
   "source": [
    "%%capture\n",
    "\n",
    "# Uncompressing the test_audio.zip and cv-corpus-7.0-2021-07-21-lg.tar.gz to the \n",
    "# directory /content/data.\n",
    "# It takes around 40s\n",
    "\n",
    "%cd /home/mila/a/akeraben/sunbird/sunbird-speech/\n",
    "\n",
    "\n",
    "## clean up the directory /content/data/\n",
    "!rm -rf /home/mila/a/akeraben/sunbird/sunbird-speech/data\n",
    "\n",
    "!mkdir -p /home/mila/a/akeraben/sunbird/sunbird-speech/data/zindi\n",
    "%cd /home/mila/a/akeraben/sunbird/sunbird-speech/data/zindi\n",
    "!unzip -o $luganda_test_audio_file && cp $luganda_test_file .\n",
    "%cd /home/mila/a/akeraben/sunbird/sunbird-speech/data\n",
    "!tar xvzf $luganda_cv_corpus"
   ]
  },
  {
   "cell_type": "code",
   "execution_count": null,
   "metadata": {},
   "outputs": [],
   "source": []
  },
  {
   "cell_type": "code",
   "execution_count": null,
   "metadata": {},
   "outputs": [],
   "source": []
  }
 ],
 "metadata": {
  "kernelspec": {
   "display_name": "Python 3 (ipykernel)",
   "language": "python",
   "name": "python3"
  },
  "language_info": {
   "codemirror_mode": {
    "name": "ipython",
    "version": 3
   },
   "file_extension": ".py",
   "mimetype": "text/x-python",
   "name": "python",
   "nbconvert_exporter": "python",
   "pygments_lexer": "ipython3",
   "version": "3.8.10"
  }
 },
 "nbformat": 4,
 "nbformat_minor": 4
}
